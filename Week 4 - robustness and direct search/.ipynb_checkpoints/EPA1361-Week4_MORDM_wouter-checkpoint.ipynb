{
 "cells": [
  {
   "cell_type": "markdown",
   "metadata": {},
   "source": [
    "# EPA1361 - Model-Based Decision Making\n",
    "\n",
    "# Week 4 - Multi-objective robust decision making (MORDM)\n"
   ]
  },
  {
   "cell_type": "markdown",
   "metadata": {},
   "source": [
    "This exercise demostrates the application of MORDM on the lake model, which was used in earlier exercises.\n",
    "\n",
    "MORDM has four main steps:\n",
    "\n",
    "(i)\t    **problem formulation** based on a systems analytical problem definition framework \n",
    "\n",
    "(ii)\t**searching** for candidate solutions that optimize multiple objectives by using multi-objective evolutionary algorithms \n",
    "\n",
    "(iii)\tgenerating an ensemble of scenarios to **explore** the effects of uncertainties \n",
    "\n",
    "(iv)\tusing **scenario discovery** to detect the vulnerabilities of candidate solutions and improving thecandidate solutions\n",
    "\n",
    "\n",
    "\n",
    "## Step 1: Problem formulation\n",
    "### Lake Model\n",
    "\n",
    "Remember the lake problem used in the assignments of Week 2. The lake problem is a hypothetical case where the inhabitants of a lake town decide on the amount of annual pollution they release into a lake. It the pollution in the lake passes a threshold, it will suffer irreversible eutrophication.\n",
    "\n",
    "The lake problem has 4 **outcome indicators**: \n",
    "   - **max_P**: maximum pollution over time, to be minimized\n",
    "   - **utility**: economic benefits obtained from polluting the lake, to be maximized\n",
    "   - **inertia**: the percentage of significant annual changes in the anthropogenic pollution rate, to be minimized\n",
    "   - **reliability**: the percentage of years where the pollution level is below the critical threshold, to be maximized\n",
    "    \n",
    "See the lake mode lexercise for the formulation of these outcome variables.\n",
    "\n",
    "The lake problem is characterized by both stochastic uncertainty and **deep uncertainty**. The stochastic uncertainty arises from the natural inflow. To reduce this stochastic uncertainty, multiple replications are performed and the average over the replication is taken. Deep uncertainty is presented by uncertainty about the mean $\\mu$ and standard deviation $sigma$ of the lognormal distribution characterizing the natural inflow, the natural removal rate of the lake $\\beta$, the natural recycling rate of the lake $q$, and the discount rate $\\delta$. The table below specifies the ranges for the deeply uncertain factors, as well as their best estimate or default values. \n",
    "\n",
    "|Parameter\t|Range\t        |Default value|\n",
    "|-----------|--------------:|------------:|\n",
    "|$\\mu$    \t|0.01 – 0.05\t|0.02         |\n",
    "|$\\sigma$\t|0.001 – 0.005 \t|0.0017       |\n",
    "|$b$      \t|0.1 – 0.45\t    |0.42         |\n",
    "|$q$\t    |2 – 4.5\t    |2            |\n",
    "|$\\delta$\t|0.93 – 0.99\t|0.98         |\n",
    "\n",
    "\n",
    "The lake problem in the exercise of Week 2 had 100 decision **levers**, meaning that the decision makers independently decide on the amount of anthropogenic pollution at every time step (100) over 100 days. Then a 'policy' was a set of values for these 100 levers, which you composed by sampling from the range [0, 0.1].   \n",
    "\n",
    "In this exercise, we will use a **closed loop** version of the lake model, meaning that $a_t$ (anthropogenic pollution) is dependent on $X_t$ (the pollution level at time t). For instance, the rate of anthropogenic pollutions is lowered if the pollution level is approaching a critical threshold. Here, we use \"cubic radial basis functions\" following *Quinn et al. 2016* and formulate $a_t$ as follows:\n",
    "\n",
    "\\begin{equation}\n",
    "    a_{t} =  min\\Bigg(max\\bigg(\\sum\\limits_{j=1}^{n} w_{j}\\left\\vert{\\frac{X_{t,i}-c_{j}}{r_{j}}}\\right\\vert, 0.01\\bigg), 0.1\\Bigg) \\\\\n",
    "    s.t. \\\\\n",
    "    -2 \\leq c_{j} \\leq 2 \\\\\n",
    "    0 \\leq r_{j} \\leq 2 \\\\ \n",
    "    0 \\leq w_{j} \\leq 1 \\\\\n",
    "    \\sum\\limits_{j=1}^{n} w_{j} = 1\n",
    "\\end{equation}\n",
    "\n",
    "\n",
    "The parameters that define this function also define the pollution strategy over time. Hence, the decision **levers** are the five parameters of this functions, namely $c_1$, $c_2$, $r_1$, $r_2$ and $w_1$. ($w_2$ = 1 - $w_1$)\n",
    "\n",
    "\n",
    "**To formulate this problem, do the following:**\n",
    "\n",
    "**1) Define a function for the anthropogenic pollution.**\n",
    "\n",
    "**2) Copy the lake model function, which is the 'system model' for this problem, from your previous exercise. Modify the lake model formulation according to the new decision makign structure (levers).**\n",
    "\n",
    "**3) Create an ema-workbench interface for this problem, with corresponding uncertainties, levers and outcomes.**\n"
   ]
  },
  {
   "cell_type": "code",
   "execution_count": 2,
   "metadata": {
    "collapsed": true
   },
   "outputs": [],
   "source": [
    "import math\n",
    "import ema_workbench\n",
    "import numpy as np\n",
    "from scipy.optimize import brentq\n",
    "\n",
    "from ema_workbench import (Model, RealParameter, ScalarOutcome, Constant,\n",
    "                           ema_logging, MultiprocessingEvaluator,  perform_experiments, save_results)\n",
    "from ema_workbench.em_framework.evaluators import MC, SequentialEvaluator\n",
    "from ema_workbench.em_framework.parameters import CategoricalParameter"
   ]
  },
  {
   "cell_type": "code",
   "execution_count": 3,
   "metadata": {
    "collapsed": true
   },
   "outputs": [],
   "source": [
    "from ema_workbench.analysis.pairs_plotting import pairs_scatter\n",
    "import seaborn as sns\n",
    "import pandas as pd\n",
    "import matplotlib.pyplot as plt\n",
    "%matplotlib inline"
   ]
  },
  {
   "cell_type": "code",
   "execution_count": 4,
   "metadata": {
    "collapsed": false
   },
   "outputs": [
    {
     "data": {
      "text/plain": [
       "0.04236385978669671"
      ]
     },
     "execution_count": 4,
     "metadata": {},
     "output_type": "execute_result"
    }
   ],
   "source": [
    "def anth(X_t,c1,c2,r1,r2,w1):\n",
    "    w2=1-w1\n",
    "    for1=w1*(abs((X_t-c1)/r1)**3)\n",
    "    for2=w2*(abs((X_t-c2)/r2)**3)\n",
    "    return(min(max(for1+for2,0.01),0.1))\n",
    "anth(1,0.8,1.3,1.1,0.7,0.5)"
   ]
  },
  {
   "cell_type": "code",
   "execution_count": 5,
   "metadata": {
    "collapsed": false
   },
   "outputs": [],
   "source": [
    "def lake_problem(\n",
    "         b = 0.42,          # decay rate for P in lake (0.42 = irreversible)\n",
    "         q = 2.0,           # recycling exponent\n",
    "         mean = 0.02,       # mean of natural inflows\n",
    "         stdev = 0.001,     # future utility discount rate\n",
    "         delta = 0.98,      # standard deviation of natural inflows\n",
    "         alpha = 0.4,       # utility from pollution\n",
    "         nsamples = 100,    # Monte Carlo sampling of natural inflows\n",
    "         timehorizon=100,\n",
    "         c1=1,\n",
    "         c2=1,\n",
    "         r1=1,\n",
    "         r2=1,\n",
    "         w1=0.5):   \n",
    "\n",
    "    #decisions=2\n",
    "    Pcrit = brentq(lambda x: x**q/(1+x**q) - b*x, 0.01, 1.5)\n",
    "    nvars = timehorizon\n",
    "    X = np.zeros((nvars,))\n",
    "    average_daily_P = np.zeros((nvars,))\n",
    "    decisions = np.zeros(timehorizon)\n",
    "    reliability = 0.0\n",
    "    utility=0.0\n",
    "    inertia=0.0\n",
    "\n",
    "    max_P_list = []\n",
    "    utility_list = []\n",
    "    inertia_list = []      \n",
    "        \n",
    "    \n",
    "    for _ in range(nsamples):\n",
    "        X[0] = 0.0\n",
    "        \n",
    "        natural_inflows = np.random.lognormal(\n",
    "                math.log(mean**2 / math.sqrt(stdev**2 + mean**2)),\n",
    "                math.sqrt(math.log(1.0 + stdev**2 / mean**2)),\n",
    "                size = nvars)\n",
    "        \n",
    "        for t in range(1,nvars):\n",
    "            decisions[t]=anth(X[t-1],c1,c2,r1,r2,w1)\n",
    "            X[t] = (1-b)*X[t-1] + X[t-1]**q/(1+X[t-1]**q) + decisions[t] + natural_inflows[t-1]\n",
    "            average_daily_P[t] += X[t]/float(nsamples)\n",
    "    \n",
    "        reliability += np.sum(X < Pcrit)/float(nsamples*nvars)     \n",
    "        utility += np.sum(alpha*decisions*np.power(delta,np.arange(nvars)))/float(nsamples) \n",
    "        inertia += np.sum(np.diff(decisions) > -0.02)/float(nvars-1)/float(nsamples) \n",
    "        \n",
    "        max_P_list.append(np.max(average_daily_P))\n",
    "        utility_list.append(np.sum(alpha*decisions*np.power(delta,np.arange(nvars))))\n",
    "        inertia_list.append(np.sum(np.diff(decisions) > -0.02)/float(nvars-1))\n",
    "    \n",
    "    max_P=np.max(average_daily_P)\n",
    "\n",
    "    return max_P, utility, inertia, reliability#, utility_mean, inertia_mean"
   ]
  },
  {
   "cell_type": "code",
   "execution_count": 6,
   "metadata": {
    "collapsed": false
   },
   "outputs": [
    {
     "data": {
      "text/plain": [
       "(2.2838217592723495,\n",
       " 1.4904726070012917,\n",
       " 0.97979797979798045,\n",
       " 0.070000000000000007)"
      ]
     },
     "execution_count": 6,
     "metadata": {},
     "output_type": "execute_result"
    }
   ],
   "source": [
    "np.random.seed(7)\n",
    "lake_problem()"
   ]
  },
  {
   "cell_type": "code",
   "execution_count": 7,
   "metadata": {
    "collapsed": false
   },
   "outputs": [],
   "source": [
    "from ema_workbench.em_framework.outcomes import AbstractOutcome\n",
    "\n",
    "ema_logging.log_to_stderr(ema_logging.INFO)\n",
    "lake_model = Model(\"lakemodel\", lake_problem)\n",
    "#lake_model.time_horizon = 100\n",
    "\n",
    "lake_model.uncertainties = [RealParameter('b', 0.1, 0.45),\n",
    "                                RealParameter('q', 2.0, 4.5),\n",
    "                                RealParameter('mean', 0.01, 0.05),\n",
    "                                RealParameter('stdev', 0.001, 0.005),\n",
    "                                RealParameter('delta', 0.93, 0.99)]\n",
    "\n",
    "lake_model.outcomes = [ScalarOutcome('max_P', kind=AbstractOutcome.MINIMIZE),\n",
    "                       ScalarOutcome('utility', kind=AbstractOutcome.MAXIMIZE),\n",
    "                       ScalarOutcome('inertia', kind=AbstractOutcome.MINIMIZE),\n",
    "                       ScalarOutcome('reliability', kind=AbstractOutcome.MAXIMIZE)]\n",
    "\n",
    "lake_model.levers = [\n",
    "                     RealParameter('c1',-2,2),\n",
    "                     RealParameter('c2',-2,2),\n",
    "                     RealParameter('r1',0,2),\n",
    "                     RealParameter('r2',0,2),\n",
    "                     RealParameter('w1',0,1)]\n",
    "\n",
    "\n",
    "\n",
    "# override some of the defaults of the model\n",
    "lake_model.constants = [Constant('alpha', 0.41),\n",
    "                            Constant('nsamples', 150)]\n",
    "    \n",
    "# generate some random policies by sampling over levers\n",
    "n_scenarios = 40\n",
    "n_policies = 4\n",
    "    \n",
    "\n",
    "\n",
    "\n",
    "\n"
   ]
  },
  {
   "cell_type": "code",
   "execution_count": 8,
   "metadata": {
    "collapsed": false
   },
   "outputs": [
    {
     "name": "stderr",
     "output_type": "stream",
     "text": [
      "[MainProcess/INFO] performing 40 scenarios * 4 policies * 1 model(s) = 160 experiments\n",
      "[MainProcess/INFO] performing experiments sequentially\n",
      "[MainProcess/INFO] 16 cases completed\n",
      "[MainProcess/INFO] 32 cases completed\n",
      "[MainProcess/INFO] 48 cases completed\n",
      "[MainProcess/INFO] 64 cases completed\n",
      "[MainProcess/INFO] 80 cases completed\n",
      "[MainProcess/INFO] 96 cases completed\n",
      "[MainProcess/INFO] 112 cases completed\n",
      "[MainProcess/INFO] 128 cases completed\n",
      "[MainProcess/INFO] 144 cases completed\n",
      "[MainProcess/INFO] 160 cases completed\n",
      "[MainProcess/INFO] experiments finished\n"
     ]
    }
   ],
   "source": [
    "results = perform_experiments(lake_model, scenarios=n_scenarios, policies=n_policies)\n",
    "# results = perform_experiments(lake_model, policies=n_policies, scenarios=n_scenarios)"
   ]
  },
  {
   "cell_type": "code",
   "execution_count": 9,
   "metadata": {
    "collapsed": false
   },
   "outputs": [
    {
     "name": "stderr",
     "output_type": "stream",
     "text": [
      "[MainProcess/INFO] no time dimension found in results\n"
     ]
    },
    {
     "data": {
      "image/png": "[encoded data removed]",
      "text/plain": [
       "<matplotlib.figure.Figure at 0x562c5b0>"
      ]
     },
     "metadata": {},
     "output_type": "display_data"
    }
   ],
   "source": [
    "fig, axes = pairs_scatter(results)\n",
    "fig.set_figheight(8)\n",
    "fig.set_figwidth(12)\n",
    "plt.show()"
   ]
  },
  {
   "cell_type": "markdown",
   "metadata": {},
   "source": [
    "## Step 2: Searching for candidate solutions\n",
    "\n",
    "In the second step of MORDM, candidate solutions are identified by searching for the Pareto optimal values of decision **levers** with respect to the **outcomes**. This *search* is done with multi-objective evolutionary algorithms, that iteratively evaluate a large number of alternatives on multiple objectives until they find the best candidates. For instance, when we optimize the lake model levers, the lake model function will be called for each candidate evaluation, and the corresponding four objective values will be generated. \n",
    "\n",
    "*Platypus* is python package developed by David Hadka (http://platypus.readthedocs.io/en/latest/) for multi-objective optimization. It allows an explicit specification of the problem components (levers, objectives, constraints). The package includes several multi-objective evolutionary algorithms, therefore the users can choose the algorithm they wish to use. \n",
    "\n",
    "Unfortunately you cannot install Platypus with **pip install**. You should download (or clone) the source code from github (https://github.com/Project-Platypus/Platypus). Open a command prompt, go to the directory you saved platypus, and run the command **python setup.py install**. \n",
    "\n",
    "In this exercise, I recommend to use Platypus with the ε-NSGAII algorithm, since it is shown to outperform many MOEA’s. For other algortihms, see the documentation of Platypus. For a comparison of them, you can have a look at \n",
    "\n",
    "    Reed, P. M., D. Hadka, J. D. Herman, J. R. Kasprzyk, and J. B. Kollat. 2013. \"Evolutionary multiobjective optimization in water resources: The past, present, and future.\"  Advances in Water Resources 51:438-456. doi: http://dx.doi.org/10.1016/j.advwatres.2012.01.005.\n",
    "    \n",
    "\n",
    "To run multi-objective optimization on the lake model, an interface between Platypus and EMA-workbench is needed. Namely, we need to specify the *function evaluation* step, where the lake model will be called with a specific *policy*, which is composed of lever values determined by the search algorithm. Therefore,\n",
    "\n",
    "**Write a function, which takes a list of parameter values, an EMA model instance and a list of EMA lever instances as inputs. The function should run the model with the given parameter values, and return the model results.**\n",
    "\n",
    "**Then write a function that defines an optimization problem, and solves it.**\n",
    "\n",
    "**You can as well just fill in the missing parts in the functions below, which are indicated by ===WRITE THE CODE HERE===**"
   ]
  },
  {
   "cell_type": "code",
   "execution_count": 10,
   "metadata": {
    "collapsed": true
   },
   "outputs": [],
   "source": [
    "import sys"
   ]
  },
  {
   "cell_type": "code",
   "execution_count": 11,
   "metadata": {
    "collapsed": false
   },
   "outputs": [],
   "source": [
    "sys.path.append(\"C:/Users/Wouter/Documents/GitHu/Platypus\")"
   ]
  },
  {
   "cell_type": "code",
   "execution_count": 24,
   "metadata": {
    "collapsed": false
   },
   "outputs": [],
   "source": [
    "from platypus import NSGAII, Problem, Real\n",
    "\n",
    "def schaffer(x):\n",
    "    return [x[0]**2, (x[0]-2)**2]\n",
    "\n",
    "problem = Problem(1, 2)\n",
    "problem.types[:] = Real(-10, 10)\n",
    "problem.function = schaffer\n",
    "\n",
    "algorithm = NSGAII(problem)\n",
    "algorithm.run(20)"
   ]
  },
  {
   "cell_type": "code",
   "execution_count": 13,
   "metadata": {
    "collapsed": false
   },
   "outputs": [
    {
     "data": {
      "image/png": "[encoded data removed]",
      "text/plain": [
       "<matplotlib.figure.Figure at 0xa9f07b0>"
      ]
     },
     "metadata": {},
     "output_type": "display_data"
    }
   ],
   "source": [
    "import matplotlib.pyplot as plt\n",
    "\n",
    "plt.scatter([s.objectives[0] for s in algorithm.result],\n",
    "            [s.objectives[1] for s in algorithm.result])\n",
    "plt.xlim([0, 1.1])\n",
    "plt.ylim([0, 1.1])\n",
    "plt.xlabel(\"$f_1(x)$\")\n",
    "plt.ylabel(\"$f_2(x)$\")\n",
    "plt.show()"
   ]
  },
  {
   "cell_type": "code",
   "execution_count": null,
   "metadata": {
    "collapsed": true
   },
   "outputs": [],
   "source": []
  },
  {
   "cell_type": "code",
   "execution_count": 39,
   "metadata": {
    "collapsed": false,
    "scrolled": true
   },
   "outputs": [
    {
     "data": {
      "text/plain": [
       "[2.2838448822461554,\n",
       " 1.5277821139676981,\n",
       " 0.97979797979797822,\n",
       " 0.06999999999999991]"
      ]
     },
     "execution_count": 39,
     "metadata": {},
     "output_type": "execute_result"
    }
   ],
   "source": [
    "from ema_workbench.em_framework import (Scenario, Policy)\n",
    "from ema_workbench.em_framework.outcomes import AbstractOutcome\n",
    "\n",
    "def evaluate_function(x, model=None, decision_vars=None):\n",
    "    '''helper function for transforming decision variables to correctly\n",
    "    formatted input for running the model\n",
    "    \n",
    "    Parameters\n",
    "    ----------\n",
    "    x : list of lever values\n",
    "    [c1,c2,r1,r2,w1]\n",
    "    model : a Model instance\n",
    "    decision_vars : list of Parameter instances\n",
    "    [RealParameter(c1), RealPar,q]\n",
    "    b = 0.42,          # decay rate for P in lake (0.42 = irreversible)\n",
    "         q = 2.0,           # recycling exponent\n",
    "         mean = 0.02,       # mean of natural inflows\n",
    "         stdev = 0.001,     # future utility discount rate\n",
    "    \n",
    "    note:: model and decision_vars are preloaded through functools.partial\n",
    "    \n",
    "    returns a list of objective function values\n",
    "    \n",
    "    '''\n",
    "    dvar_names = [l.name for l in decision_vars]\n",
    "    decisions = dict(zip(dvar_names, x))\n",
    "    #print(decisions)\n",
    "    scenario = Scenario()\n",
    "    policy = Policy('', **decisions)\n",
    "    \n",
    "    model.run_model(Scenario({}), policy)\n",
    "    model_output=model.output\n",
    "    outcome=[]\n",
    "    for i in model_output:\n",
    "        outcome.append(model_output[i])\n",
    "\n",
    "    \n",
    "#     outcomes = [results[o.name] for o in model.outcome if \n",
    "#                 o.kind != AbstractOutcome.INFO]\n",
    "\n",
    "#     # === YOU CAN WRITE THE CONTENT OF THE FUNCTION HERE.===\n",
    "    \n",
    "    return outcome\n",
    "evaluate_function([1,1,1,1,0.33], lake_model, [\n",
    "                     RealParameter('c1',-2,2),\n",
    "                     RealParameter('c2',-2,2),\n",
    "                     RealParameter('r1',0,2),\n",
    "                     RealParameter('r2',0,2),\n",
    "                     RealParameter('w1',0,1)])"
   ]
  },
  {
   "cell_type": "markdown",
   "metadata": {},
   "source": [
    "Now, the algorthm can use this *evaluate_function* to evaluate each alternative solution.\n",
    "\n",
    "We still need to specify an optimization problem in Platypus. We can first write a generic function that can be used for any model and any algorithm. If you would like to try this by yourself, see the simple example in Platypus documentation.  "
   ]
  },
  {
   "cell_type": "code",
   "execution_count": 25,
   "metadata": {
    "collapsed": true
   },
   "outputs": [],
   "source": [
    "from platypus import Problem, unique, nondominated, Real, EpsNSGAII\n",
    "import functools\n",
    "import pandas as pd"
   ]
  },
  {
   "cell_type": "code",
   "execution_count": 118,
   "metadata": {
    "collapsed": false
   },
   "outputs": [],
   "source": [
    "def optimize(model, algorithm=EpsNSGAII, nfe=101, epsilons=[]):\n",
    "    '''\n",
    "    model : a Model instance\n",
    "    algorith : a valid Platypus optimization algorithm\n",
    "    nfe : int\n",
    "    searchover : {'uncertainties', 'levers'}\n",
    "    \n",
    "    Returns the results in a pandas DataFrame\n",
    "    \n",
    "    '''\n",
    "    \n",
    "    # extract the levers and outcomes from the model\n",
    "    # === WRITE THE CODE ===\n",
    "    decision_variables=[dv for dv in getattr(model, 'levers')]\n",
    "    outcomes=[dv for dv in getattr(lake_model, 'outcomes')] \n",
    "    \n",
    "    # set the evaluation function, with the given model and decision variables \n",
    "    evalfunc = functools.partial(evaluate_function, model=model,\n",
    "                                 decision_vars=decision_variables)\n",
    "    \n",
    "    # setup the optimization problem\n",
    "    \n",
    "    # creating a 'problem' instance first requires specifying the number of decision variables number of objectives\n",
    "    problem=Problem(len(decision_variables), len(outcomes))\n",
    "    \n",
    "    #specify the type of decision variables, e.g. real or integer, \n",
    "     #and their search ranges, by creatign a platypus Real instance for each decision variable. \n",
    "    problem.types[:] = [Real(dv.lower_bound, dv.upper_bound) \n",
    "                        for dv in decision_variables]\n",
    "    #set the evaluation function\n",
    "    problem.function = evalfunc\n",
    "    #specify whether the objectives are to be minimized or maximized. \n",
    "     #Remember that we set these when we created the outcomes of the ema model. \n",
    "    problem.directions = [outcome.kind for outcome in outcomes]\n",
    "\n",
    "    # solve the optimization problem\n",
    "    optimizer = algorithm(problem, epsilons)\n",
    "    optimizer.run(nfe)\n",
    "\n",
    "    # extract the results from the optimizer and save in a dataframe\n",
    "    \n",
    "    # ensure that eventual results are nondominated and do not have duplicates\n",
    "    results = unique(nondominated(optimizer.result))\n",
    "        # results is a list of 'solution' objects, \n",
    "        #which has the decision variable values in solution.variables \n",
    "        #and objective values in solution.objectives\n",
    "    # for the dataframe, get the names for levers and the outcomes\n",
    "    # === WRITE THE CODE HERE === \n",
    "    lever_names=[i.name for i in lake_model.levers]\n",
    "    outcome_names=[i.name for i in lake_model.outcomes]\n",
    "    \n",
    "    solutions = []\n",
    "    for solution in results:\n",
    "        #for each solution, match the lever names with variable values, and outcome names with objective values \n",
    "        decision_vars = dict(zip(lever_names, solution.variables))\n",
    "        decision_out = dict(zip(outcome_names, solution.objectives))\n",
    "        #create dictionary, with the unpacked keys and values of the above two dictionaries. This will be row in th df.\n",
    "        solution_result={**decision_vars, **decision_out}\n",
    "        solutions.append(solution_result)\n",
    "#         print(decision_vars)\n",
    "#         print(decision_out)\n",
    "        # === WRITE THE CODE HERE ===\n",
    "\n",
    "    results = pd.DataFrame(solutions, columns=lever_names+outcome_names)\n",
    "\n",
    "    return results\n"
   ]
  },
  {
   "cell_type": "markdown",
   "metadata": {},
   "source": [
    "We can now call the *optimize* function for the lake problem, and run the search algorithm. I set the maximum number of function evaluations (when the algorithm will stop) as 10000, and specify the epsilon values differently for each objective. You can then save the esults in a csv file, to be used later."
   ]
  },
  {
   "cell_type": "code",
   "execution_count": 114,
   "metadata": {
    "collapsed": false
   },
   "outputs": [
    {
     "data": {
      "text/html": [
       "<div>\n",
       "<table border=\"1\" class=\"dataframe\">\n",
       "  <thead>\n",
       "    <tr style=\"text-align: right;\">\n",
       "      <th></th>\n",
       "      <th>c1</th>\n",
       "      <th>c2</th>\n",
       "      <th>r1</th>\n",
       "      <th>r2</th>\n",
       "      <th>w1</th>\n",
       "      <th>max_P</th>\n",
       "      <th>utility</th>\n",
       "      <th>inertia</th>\n",
       "      <th>reliability</th>\n",
       "    </tr>\n",
       "  </thead>\n",
       "  <tbody>\n",
       "    <tr>\n",
       "      <th>0</th>\n",
       "      <td>-0.568216</td>\n",
       "      <td>-1.846275</td>\n",
       "      <td>1.603224</td>\n",
       "      <td>0.029531</td>\n",
       "      <td>0.846088</td>\n",
       "      <td>2.283887</td>\n",
       "      <td>1.548594</td>\n",
       "      <td>1.0</td>\n",
       "      <td>0.1206</td>\n",
       "    </tr>\n",
       "    <tr>\n",
       "      <th>1</th>\n",
       "      <td>-0.568216</td>\n",
       "      <td>-1.846275</td>\n",
       "      <td>1.603224</td>\n",
       "      <td>0.029531</td>\n",
       "      <td>0.846088</td>\n",
       "      <td>2.283887</td>\n",
       "      <td>1.548594</td>\n",
       "      <td>1.0</td>\n",
       "      <td>0.1206</td>\n",
       "    </tr>\n",
       "  </tbody>\n",
       "</table>\n",
       "</div>"
      ],
      "text/plain": [
       "         c1        c2        r1        r2        w1     max_P   utility  \\\n",
       "0 -0.568216 -1.846275  1.603224  0.029531  0.846088  2.283887  1.548594   \n",
       "1 -0.568216 -1.846275  1.603224  0.029531  0.846088  2.283887  1.548594   \n",
       "\n",
       "   inertia  reliability  \n",
       "0      1.0       0.1206  \n",
       "1      1.0       0.1206  "
      ]
     },
     "execution_count": 114,
     "metadata": {},
     "output_type": "execute_result"
    }
   ],
   "source": [
    "data=[]\n",
    "for i in [1,2]:\n",
    "    decision_vars={'c1': -0.5682164534969749, 'c2': -1.8462747290014363, 'r1': 1.6032237435951389, 'r2': 0.02953098907763274, 'w1': 0.8460876900004155}\n",
    "    decision_out={'max_P': 2.283886800252811, 'utility': 1.5485942394290817, 'inertia': 1.0000000000000024, 'reliability': 0.12059999999999975}\n",
    "    lever_names=[i.name for i in lake_model.levers]\n",
    "    outcome_names=[i.name for i in lake_model.outcomes]\n",
    "    z = {**decision_vars, **decision_out}\n",
    "    data.append(z)\n",
    "\n",
    "#data=[{'c1': -0.5682164534969749, 'c2': -1.8462747290014363, 'r1': 1.6032237435951389, 'r2': 0.02953098907763274, 'w1': 0.8460876900004155, 'max_P': 2.2836522437935356, 'b': 1.7371299104157492, 'c': 1.0000000000000024, 'f': 0.06999999999999991}]\n",
    "\n",
    "# for i in decision_vars:\n",
    "#     print(i)\n",
    "#solutions = [1,2,3,4,5,6,7,8,9]\n",
    "sales=[{'account': 'Jones LLC', 'Jan': 150, 'Feb': 200, 'Mar': 140},\n",
    "         {'account': 'Alpha Co',  'Jan': 200, 'Feb': 210, 'Mar': 215},\n",
    "         {'account': 'Blue Inc',  'Jan': 50,  'Feb': 90,  'Mar': 95 }]\n",
    "# df = pd.DataFrame(sales, columns=['Jan','Feb','Mar','account'])\n",
    "# df\n",
    "results = pd.DataFrame(data, columns=lever_names+outcome_names)\n",
    "results"
   ]
  },
  {
   "cell_type": "code",
   "execution_count": 120,
   "metadata": {
    "collapsed": false,
    "scrolled": true
   },
   "outputs": [],
   "source": [
    "opt_results=optimize(lake_model, algorithm=EpsNSGAII, nfe=1000, epsilons=[0.05,0.01,0.005,0.005])"
   ]
  },
  {
   "cell_type": "code",
   "execution_count": 133,
   "metadata": {
    "collapsed": false
   },
   "outputs": [
    {
     "data": {
      "text/html": [
       "<div>\n",
       "<table border=\"1\" class=\"dataframe\">\n",
       "  <thead>\n",
       "    <tr style=\"text-align: right;\">\n",
       "      <th></th>\n",
       "      <th>c1</th>\n",
       "      <th>c2</th>\n",
       "      <th>r1</th>\n",
       "      <th>r2</th>\n",
       "      <th>w1</th>\n",
       "      <th>max_P</th>\n",
       "      <th>utility</th>\n",
       "      <th>inertia</th>\n",
       "      <th>reliability</th>\n",
       "    </tr>\n",
       "  </thead>\n",
       "  <tbody>\n",
       "    <tr>\n",
       "      <th>0</th>\n",
       "      <td>-1.532788</td>\n",
       "      <td>0.311104</td>\n",
       "      <td>1.713992</td>\n",
       "      <td>0.501911</td>\n",
       "      <td>0.009460</td>\n",
       "      <td>0.186739</td>\n",
       "      <td>0.480653</td>\n",
       "      <td>0.979798</td>\n",
       "      <td>1.000000</td>\n",
       "    </tr>\n",
       "    <tr>\n",
       "      <th>1</th>\n",
       "      <td>-0.275969</td>\n",
       "      <td>0.748074</td>\n",
       "      <td>1.226277</td>\n",
       "      <td>1.953384</td>\n",
       "      <td>0.290962</td>\n",
       "      <td>2.283945</td>\n",
       "      <td>1.172866</td>\n",
       "      <td>1.000000</td>\n",
       "      <td>0.295733</td>\n",
       "    </tr>\n",
       "    <tr>\n",
       "      <th>2</th>\n",
       "      <td>-0.400033</td>\n",
       "      <td>0.200156</td>\n",
       "      <td>0.659683</td>\n",
       "      <td>0.551883</td>\n",
       "      <td>0.043708</td>\n",
       "      <td>2.283764</td>\n",
       "      <td>1.167162</td>\n",
       "      <td>0.989899</td>\n",
       "      <td>0.295333</td>\n",
       "    </tr>\n",
       "    <tr>\n",
       "      <th>3</th>\n",
       "      <td>-0.437795</td>\n",
       "      <td>0.322048</td>\n",
       "      <td>1.562542</td>\n",
       "      <td>0.227749</td>\n",
       "      <td>0.266653</td>\n",
       "      <td>2.283677</td>\n",
       "      <td>1.444592</td>\n",
       "      <td>0.989899</td>\n",
       "      <td>0.176000</td>\n",
       "    </tr>\n",
       "    <tr>\n",
       "      <th>4</th>\n",
       "      <td>-0.275969</td>\n",
       "      <td>0.748074</td>\n",
       "      <td>1.218976</td>\n",
       "      <td>1.951831</td>\n",
       "      <td>0.290962</td>\n",
       "      <td>2.283709</td>\n",
       "      <td>1.190302</td>\n",
       "      <td>1.000000</td>\n",
       "      <td>0.286733</td>\n",
       "    </tr>\n",
       "    <tr>\n",
       "      <th>5</th>\n",
       "      <td>0.972200</td>\n",
       "      <td>0.269740</td>\n",
       "      <td>0.042382</td>\n",
       "      <td>1.673792</td>\n",
       "      <td>0.068713</td>\n",
       "      <td>2.283837</td>\n",
       "      <td>1.726400</td>\n",
       "      <td>0.989966</td>\n",
       "      <td>0.070000</td>\n",
       "    </tr>\n",
       "    <tr>\n",
       "      <th>6</th>\n",
       "      <td>-0.437795</td>\n",
       "      <td>0.322048</td>\n",
       "      <td>1.542489</td>\n",
       "      <td>0.227749</td>\n",
       "      <td>0.266653</td>\n",
       "      <td>2.283771</td>\n",
       "      <td>1.481725</td>\n",
       "      <td>0.989899</td>\n",
       "      <td>0.161000</td>\n",
       "    </tr>\n",
       "    <tr>\n",
       "      <th>7</th>\n",
       "      <td>0.515005</td>\n",
       "      <td>-0.996892</td>\n",
       "      <td>1.422804</td>\n",
       "      <td>1.563811</td>\n",
       "      <td>0.838864</td>\n",
       "      <td>2.283847</td>\n",
       "      <td>1.702694</td>\n",
       "      <td>1.000000</td>\n",
       "      <td>0.080000</td>\n",
       "    </tr>\n",
       "    <tr>\n",
       "      <th>8</th>\n",
       "      <td>-0.809415</td>\n",
       "      <td>0.174247</td>\n",
       "      <td>1.801342</td>\n",
       "      <td>0.418812</td>\n",
       "      <td>0.046856</td>\n",
       "      <td>0.098419</td>\n",
       "      <td>0.228719</td>\n",
       "      <td>0.989899</td>\n",
       "      <td>1.000000</td>\n",
       "    </tr>\n",
       "    <tr>\n",
       "      <th>9</th>\n",
       "      <td>0.375338</td>\n",
       "      <td>-1.357481</td>\n",
       "      <td>0.689847</td>\n",
       "      <td>1.472012</td>\n",
       "      <td>0.966694</td>\n",
       "      <td>2.283803</td>\n",
       "      <td>1.561501</td>\n",
       "      <td>0.989899</td>\n",
       "      <td>0.127333</td>\n",
       "    </tr>\n",
       "  </tbody>\n",
       "</table>\n",
       "</div>"
      ],
      "text/plain": [
       "         c1        c2        r1        r2        w1     max_P   utility  \\\n",
       "0 -1.532788  0.311104  1.713992  0.501911  0.009460  0.186739  0.480653   \n",
       "1 -0.275969  0.748074  1.226277  1.953384  0.290962  2.283945  1.172866   \n",
       "2 -0.400033  0.200156  0.659683  0.551883  0.043708  2.283764  1.167162   \n",
       "3 -0.437795  0.322048  1.562542  0.227749  0.266653  2.283677  1.444592   \n",
       "4 -0.275969  0.748074  1.218976  1.951831  0.290962  2.283709  1.190302   \n",
       "5  0.972200  0.269740  0.042382  1.673792  0.068713  2.283837  1.726400   \n",
       "6 -0.437795  0.322048  1.542489  0.227749  0.266653  2.283771  1.481725   \n",
       "7  0.515005 -0.996892  1.422804  1.563811  0.838864  2.283847  1.702694   \n",
       "8 -0.809415  0.174247  1.801342  0.418812  0.046856  0.098419  0.228719   \n",
       "9  0.375338 -1.357481  0.689847  1.472012  0.966694  2.283803  1.561501   \n",
       "\n",
       "    inertia  reliability  \n",
       "0  0.979798     1.000000  \n",
       "1  1.000000     0.295733  \n",
       "2  0.989899     0.295333  \n",
       "3  0.989899     0.176000  \n",
       "4  1.000000     0.286733  \n",
       "5  0.989966     0.070000  \n",
       "6  0.989899     0.161000  \n",
       "7  1.000000     0.080000  \n",
       "8  0.989899     1.000000  \n",
       "9  0.989899     0.127333  "
      ]
     },
     "execution_count": 133,
     "metadata": {},
     "output_type": "execute_result"
    }
   ],
   "source": [
    "opt_results.head(10)"
   ]
  },
  {
   "cell_type": "code",
   "execution_count": 45,
   "metadata": {
    "collapsed": false,
    "scrolled": false
   },
   "outputs": [
    {
     "data": {
      "text/plain": [
       "[RealParameter('c1', -2, 2),\n",
       " RealParameter('c2', -2, 2),\n",
       " RealParameter('r1', 0, 2),\n",
       " RealParameter('r2', 0, 2),\n",
       " RealParameter('w1', 0, 1)]"
      ]
     },
     "execution_count": 45,
     "metadata": {},
     "output_type": "execute_result"
    }
   ],
   "source": [
    "decision_variables=[dv for dv in getattr(lake_model, 'levers')]\n",
    "decision_variables"
   ]
  },
  {
   "cell_type": "code",
   "execution_count": 62,
   "metadata": {
    "collapsed": false
   },
   "outputs": [
    {
     "data": {
      "text/plain": [
       "['max_P', 'utility', 'inertia', 'reliability']"
      ]
     },
     "execution_count": 62,
     "metadata": {},
     "output_type": "execute_result"
    }
   ],
   "source": [
    "a=[i.name for i in lake_model.outcomes]\n",
    "a\n"
   ]
  },
  {
   "cell_type": "code",
   "execution_count": 53,
   "metadata": {
    "collapsed": false
   },
   "outputs": [
    {
     "ename": "SyntaxError",
     "evalue": "invalid syntax (<ipython-input-53-dd9d1e8fcdf8>, line 5)",
     "output_type": "error",
     "traceback": [
      "\u001b[0;36m  File \u001b[0;32m\"<ipython-input-53-dd9d1e8fcdf8>\"\u001b[0;36m, line \u001b[0;32m5\u001b[0m\n\u001b[0;31m    for j in i getattr(j)\u001b[0m\n\u001b[0m                     ^\u001b[0m\n\u001b[0;31mSyntaxError\u001b[0m\u001b[0;31m:\u001b[0m invalid syntax\n"
     ]
    }
   ],
   "source": [
    "problem.types[:] = [Real(dv.lower_bound, dv.upper_bound) \n",
    "                        for dv in decision_variables]\n",
    "for i in problem.types:\n",
    "    print (i)\n",
    "    for j in i getattr(j)"
   ]
  },
  {
   "cell_type": "code",
   "execution_count": 87,
   "metadata": {
    "collapsed": false
   },
   "outputs": [
    {
     "data": {
      "text/plain": [
       "[[<platypus.types.Real at 0x1423a90>,\n",
       "  <platypus.types.Real at 0x1423a30>,\n",
       "  <platypus.types.Real at 0x14239f0>,\n",
       "  <platypus.types.Real at 0x14239b0>,\n",
       "  <platypus.types.Real at 0x1423ab0>]]"
      ]
     },
     "execution_count": 87,
     "metadata": {},
     "output_type": "execute_result"
    }
   ],
   "source": [
    "problem.types[:] = [Real(dv.lower_bound, dv.upper_bound) \n",
    "                        for dv in decision_variables]\n",
    "problem.types[:]"
   ]
  },
  {
   "cell_type": "code",
   "execution_count": 77,
   "metadata": {
    "collapsed": false
   },
   "outputs": [
    {
     "data": {
      "text/plain": [
       "[ScalarOutcome('max_P'),\n",
       " ScalarOutcome('utility'),\n",
       " ScalarOutcome('inertia'),\n",
       " ScalarOutcome('reliability')]"
      ]
     },
     "execution_count": 77,
     "metadata": {},
     "output_type": "execute_result"
    }
   ],
   "source": [
    "outcomes=[dv for dv in getattr(lake_model, 'outcomes')]\n",
    "outcomes"
   ]
  },
  {
   "cell_type": "code",
   "execution_count": 75,
   "metadata": {
    "collapsed": false
   },
   "outputs": [
    {
     "data": {
      "text/plain": [
       "[-1, 1, -1, 1]"
      ]
     },
     "execution_count": 75,
     "metadata": {},
     "output_type": "execute_result"
    }
   ],
   "source": [
    "problem.directions = [outcome.kind for outcome in outcomes]\n",
    "problem.directions"
   ]
  },
  {
   "cell_type": "code",
   "execution_count": null,
   "metadata": {
    "collapsed": false
   },
   "outputs": [],
   "source": [
    "# it should look like that\n",
    "results.head()"
   ]
  },
  {
   "cell_type": "markdown",
   "metadata": {
    "collapsed": true
   },
   "source": [
    "We have found 336 unique nondominated solutions that specify a value for each of the five decision levers. (Note that you may find a different number of solutions.) Remember that solution *a* dominates solution *b* if it is equal to or better than it in terms of all objectives. A nondominated solution is equal to or better than all other solutions in terms of at least one objecive. Therefore, each solution is actually a tradeoff between the multiple. possible conflicting objectives. \n",
    "\n",
    "We can visualize these tradeoffs on **parallel coordinate plots**, which have a column (vertical axis) for each objective. Each solution is represetned by a line on this plot, which crosses the objective axes at the corresponsing value.\n",
    "\n",
    "**As an exercise, you can plot the tradeoffs you have found on a parallel plot. Note that the values on each axis should be normalized to ensure a reasonable comparison.**\n",
    "\n"
   ]
  },
  {
   "cell_type": "code",
   "execution_count": 132,
   "metadata": {
    "collapsed": false
   },
   "outputs": [
    {
     "data": {
      "text/plain": [
       "(58, 9)"
      ]
     },
     "execution_count": 132,
     "metadata": {},
     "output_type": "execute_result"
    }
   ],
   "source": [
    "opt_results.shape"
   ]
  },
  {
   "cell_type": "code",
   "execution_count": 125,
   "metadata": {
    "collapsed": false
   },
   "outputs": [
    {
     "ename": "NameError",
     "evalue": "name 'plot_optimal' is not defined",
     "output_type": "error",
     "traceback": [
      "\u001b[0;31m---------------------------------------------------------------------------\u001b[0m",
      "\u001b[0;31mNameError\u001b[0m                                 Traceback (most recent call last)",
      "\u001b[0;32m<ipython-input-125-888dcbd1fd74>\u001b[0m in \u001b[0;36m<module>\u001b[0;34m()\u001b[0m\n\u001b[1;32m      6\u001b[0m \u001b[1;33m\u001b[0m\u001b[0m\n\u001b[1;32m      7\u001b[0m \u001b[0mtitle\u001b[0m \u001b[1;33m=\u001b[0m \u001b[1;34m\"Non-dominated tradeoffs\"\u001b[0m\u001b[1;33m\u001b[0m\u001b[0m\n\u001b[0;32m----> 8\u001b[0;31m \u001b[0mplot_optimal\u001b[0m\u001b[1;33m(\u001b[0m\u001b[0mobjectives\u001b[0m\u001b[1;33m,\u001b[0m \u001b[0moois\u001b[0m\u001b[1;33m,\u001b[0m \u001b[0mtitle\u001b[0m\u001b[1;33m)\u001b[0m\u001b[1;33m\u001b[0m\u001b[0m\n\u001b[0m",
      "\u001b[0;31mNameError\u001b[0m: name 'plot_optimal' is not defined"
     ]
    }
   ],
   "source": [
    "# THIS IS HOW IT CAN LOOK LIKE\n",
    "\n",
    "oois = [out.name for out in lake_model.outcomes]\n",
    "# objectives = results.ix[:, oois]\n",
    "objectives = opt_results.ix[:, oois]\n",
    "\n",
    "title = \"Non-dominated tradeoffs\"\n",
    "plot_optimal(objectives, oois, title)"
   ]
  },
  {
   "cell_type": "markdown",
   "metadata": {},
   "source": [
    "**What does this plot tell us about the tradeoffs and conflicting objectives?**"
   ]
  },
  {
   "cell_type": "markdown",
   "metadata": {},
   "source": [
    "## Step 3: Explore the scenarios and robustness of candidate solutions"
   ]
  },
  {
   "cell_type": "markdown",
   "metadata": {},
   "source": [
    "We now have a large number of candidate solutions (policies), we can evaluate them in terms of their robustness against uncertainties.\n",
    "\n",
    "For this robustness evaluation, we need to explore the scenarios for each solution. It means that, if we would like to run for instance 1000 scenarios for each solution, we need 336000 scenarios. \n",
    "\n",
    "Here, to simplify the case, let's suppose that decision makers have a hard constrain on *reliability*. No solution with less than 90% reliability is acceptable for them. Therefore, we can reduce the size of the solution set according to this constraint. \n",
    "\n",
    "**Apply this constraint of reliability on the results, and create a new dataframe named new_reults**"
   ]
  },
  {
   "cell_type": "code",
   "execution_count": null,
   "metadata": {
    "collapsed": true
   },
   "outputs": [],
   "source": []
  },
  {
   "cell_type": "code",
   "execution_count": null,
   "metadata": {
    "collapsed": false
   },
   "outputs": [],
   "source": [
    "#using the predefined parallel plot function, plot the reduced set of tradeoffs\n",
    "new_objectives = new_results.ix[:, oois]\n",
    "plot_optimal(new_objectives, oois, title)"
   ]
  },
  {
   "cell_type": "markdown",
   "metadata": {},
   "source": [
    "**From new_results, which is the reduced dataframe of candidate solutions, make list of policies in a fromat that can be inputed to the *perform_experiments* function of the EMA workbench.**"
   ]
  },
  {
   "cell_type": "code",
   "execution_count": null,
   "metadata": {
    "collapsed": true
   },
   "outputs": [],
   "source": []
  },
  {
   "cell_type": "markdown",
   "metadata": {},
   "source": [
    "**Perform 1000 scenarios for each of the policy options. Considering that there are 35 policy options and we need to run 35000 experiments in total, and we can consider using the IpyparallelEvaluator**\n",
    "\n",
    "If you want to use ipyprallel, don't forget to start ipcluster."
   ]
  },
  {
   "cell_type": "code",
   "execution_count": null,
   "metadata": {
    "collapsed": true
   },
   "outputs": [],
   "source": []
  },
  {
   "cell_type": "code",
   "execution_count": null,
   "metadata": {
    "collapsed": true
   },
   "outputs": [],
   "source": []
  },
  {
   "cell_type": "markdown",
   "metadata": {},
   "source": [
    "We can now evaluate the **robustness** of each of the 35 policy options based on these scenario results. We can calculate the robustness of a policy option in terms of its performance on an outcome indicator across the 1000 scenarios. In other words, we can identify how robust a policy is in terms of each outcome indicator, and investigate the robustness tradeoffs.  \n",
    "\n",
    "There are multiple metrics to quantify robustness. On of them is the *signal to noise ratio*, which is simply the mean of a dataset divided by its standard deviation. For instance, for an outcome indicator to be maximized, we prefer a high average value across the scenarios, and a low standard deviation, implying a narrow uncertaintiy range. Therefore, we want to maximize the signal-to-noise ratio. For an outcome indicator to be minimized, a lower mean and a lower standard deviation is preferred. Therefore the formulation shoudl be different.\n",
    "\n",
    "**Write a function to calculate the signal-to-noise ratio for both kinds of outcome indicators. Calculate the signal-to-noise ratios for each outcome and each policy option. Plot the tradeoffs on a parallel plot. Which solutions look like a good compromise policy?**"
   ]
  },
  {
   "cell_type": "code",
   "execution_count": null,
   "metadata": {
    "collapsed": true
   },
   "outputs": [],
   "source": []
  },
  {
   "cell_type": "markdown",
   "metadata": {},
   "source": [
    "Another robustness metric is **maximum regret**, calculated again for each policy and for each outcome indicator. *Regret* is defined for each policy under each scenario, as the difference between the performance of that scenario and the berformance of a no-regret or refeence policy. The *maximum regret*  is then the maximum of such regret values across all scenarios. We off course favor policy options with low *maximum regret* values. (You can find furter explanation in the slides of the Advanced System Dynamics course.)\n",
    "\n",
    "**Write a function to calculate the maximum regret for both kinds of outcome indicators. Calculate the maximum regret values for each outcome and each policy option. Plot the tradeoffs on a parallel plot. Which solutions look like a good compromise policy?**"
   ]
  },
  {
   "cell_type": "code",
   "execution_count": null,
   "metadata": {
    "collapsed": true
   },
   "outputs": [],
   "source": []
  },
  {
   "cell_type": "code",
   "execution_count": null,
   "metadata": {
    "collapsed": true
   },
   "outputs": [],
   "source": []
  },
  {
   "cell_type": "code",
   "execution_count": null,
   "metadata": {
    "collapsed": true
   },
   "outputs": [],
   "source": []
  },
  {
   "cell_type": "code",
   "execution_count": null,
   "metadata": {
    "collapsed": true
   },
   "outputs": [],
   "source": []
  }
 ],
 "metadata": {
  "anaconda-cloud": {},
  "kernelspec": {
   "display_name": "Python 3",
   "language": "python",
   "name": "python3"
  },
  "language_info": {
   "codemirror_mode": {
    "name": "ipython",
    "version": 3
   },
   "file_extension": ".py",
   "mimetype": "text/x-python",
   "name": "python",
   "nbconvert_exporter": "python",
   "pygments_lexer": "ipython3",
   "version": "3.6.0"
  },
  "latex_envs": {
   "LaTeX_envs_menu_present": true,
   "autocomplete": true,
   "bibliofile": "biblio.bib",
   "cite_by": "apalike",
   "current_citInitial": 1,
   "eqLabelWithNumbers": true,
   "eqNumInitial": 1,
   "hotkeys": {
    "equation": "Ctrl-E",
    "itemize": "Ctrl-I"
   },
   "labels_anchors": false,
   "latex_user_defs": false,
   "report_style_numbering": false,
   "user_envs_cfg": false
  }
 },
 "nbformat": 4,
 "nbformat_minor": 1
}
